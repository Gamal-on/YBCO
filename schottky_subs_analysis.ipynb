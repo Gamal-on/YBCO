{
 "cells": [
  {
   "cell_type": "code",
   "execution_count": null,
   "id": "18f32444",
   "metadata": {},
   "outputs": [],
   "source": [
    "import numpy as np\n",
    "import matplotlib.pyplot as plt\n",
    "import tools\n",
    "\n",
    "from data import temperature\n",
    "from data import sample_HC\n",
    "from data import err_sample_HC\n",
    "from data import err_temperature\n",
    "\n",
    "squared_temperature = temperature**2  # K**2\n",
    "C_div_T = sample_HC/temperature  # mJ/K**2.mol\n",
    "err_C_divT = err_sample_HC/temperature"
   ]
  },
  {
   "cell_type": "code",
   "execution_count": 44,
   "id": "dcd5c0c3",
   "metadata": {},
   "outputs": [],
   "source": [
    "# Constantes et tableaux\n",
    "\n",
    "k = 1.380649e-23\n",
    "delta = 2.9461005*k*2.4\n",
    "temp = np.arange(0, 10, 1e-3)\n"
   ]
  },
  {
   "cell_type": "code",
   "execution_count": 45,
   "id": "a3b237b8",
   "metadata": {},
   "outputs": [],
   "source": [
    "def max_schottky(x, y, min, max):\n",
    "    \"\"\"Find the maximum of the Schottky anomaly in a given interval\"\"\"\n",
    "    x_interval, y_interval = tools.tab_interval(x, y, min, max)\n",
    "    maxi, i = tools.maximum(y_interval)\n",
    "    x_maxi = x_interval[i]\n",
    "    return x_maxi, maxi\n",
    "\n",
    "\n",
    "def schottky(T, E, n=1, r=8.31446261815324, na=6.02214076e23, k=1.380649e-23):\n",
    "    \"\"\"Calculate the Schottky anomaly\"\"\"\n",
    "    \"\"\"T: temperature in Kelvin, E: energy in Joules, n: number of particles, k: Boltzmann constant\"\"\"\n",
    "    x = (E)/(k*T)\n",
    "    cs = (x**2)*(np.exp(x)/(1+np.exp(x))**2)\n",
    "    return n*r*cs\n"
   ]
  },
  {
   "cell_type": "code",
   "execution_count": 27,
   "id": "857bb9a4",
   "metadata": {},
   "outputs": [
    {
     "data": {
      "image/png": "[encoded data removed]",
      "text/plain": [
       "<Figure size 640x480 with 1 Axes>"
      ]
     },
     "metadata": {},
     "output_type": "display_data"
    }
   ],
   "source": [
    "plt.figure()\n",
    "plt.plot(squared_temperature[0:50], C_div_T[0:50], \".g\")\n",
    "plt.show()\n"
   ]
  },
  {
   "cell_type": "code",
   "execution_count": null,
   "id": "187b792a",
   "metadata": {},
   "outputs": [],
   "source": []
  }
 ],
 "metadata": {
  "kernelspec": {
   "display_name": "Python 3",
   "language": "python",
   "name": "python3"
  },
  "language_info": {
   "codemirror_mode": {
    "name": "ipython",
    "version": 3
   },
   "file_extension": ".py",
   "mimetype": "text/x-python",
   "name": "python",
   "nbconvert_exporter": "python",
   "pygments_lexer": "ipython3",
   "version": "3.8.10"
  }
 },
 "nbformat": 4,
 "nbformat_minor": 5
}
