{
 "cells": [
  {
   "cell_type": "code",
   "execution_count": 13,
   "id": "342e16b2",
   "metadata": {},
   "outputs": [],
   "source": [
    "import tensorflow as tf\n",
    "from tensorflow import keras\n",
    "import numpy as np\n",
    "import matplotlib.pyplot as plt"
   ]
  },
  {
   "cell_type": "code",
   "execution_count": 4,
   "id": "588d5713",
   "metadata": {},
   "outputs": [],
   "source": [
    "from data import temperature\n",
    "from data import sample_HC\n",
    "from data import err_sample_HC\n",
    "from data import err_temperature\n",
    "\n",
    "squared_temperature = temperature**2  # K**2\n",
    "C_div_T = sample_HC/temperature  # mJ/K**2.mol\n",
    "err_C_divT = err_sample_HC/temperature\n"
   ]
  },
  {
   "cell_type": "code",
   "execution_count": 5,
   "id": "def9e805",
   "metadata": {},
   "outputs": [],
   "source": [
    "# Constantes et tableaux\n",
    "\n",
    "k = 1.380649e-23\n",
    "r = 8.31446261815324  # J/mol.K\n"
   ]
  },
  {
   "cell_type": "code",
   "execution_count": null,
   "id": "a2cdc656",
   "metadata": {},
   "outputs": [],
   "source": [
    "# On ne prendra que les 65 premières valeurs\n",
    "temp65 = temperature[:65]\n",
    "HC65 = sample_HC[:65]\n",
    "err_HC65 = err_sample_HC[:65]\n",
    "# err_temperature n’est pas utilisé ici, sauf si nécessaire pour un calcul particulier\n",
    "\n",
    "# Calcul de x = temperature**2 et y = C/T\n",
    "x_raw = (temp65 ** 2).astype('float32')  # forme (65,)\n",
    "y_raw = (HC65 / temp65).astype('float32')  # forme (65,)\n",
    "err_y = (err_HC65 / temp65).astype('float32')  # forme (65,)\n"
   ]
  },
  {
   "cell_type": "code",
   "execution_count": 1,
   "id": "f9e57f1b",
   "metadata": {},
   "outputs": [
    {
     "ename": "ModuleNotFoundError",
     "evalue": "No module named 'torch'",
     "output_type": "error",
     "traceback": [
      "\u001b[0;31m---------------------------------------------------------------------------\u001b[0m",
      "\u001b[0;31mModuleNotFoundError\u001b[0m                       Traceback (most recent call last)",
      "Cell \u001b[0;32mIn[1], line 1\u001b[0m\n\u001b[0;32m----> 1\u001b[0m \u001b[38;5;28;01mimport\u001b[39;00m \u001b[38;5;21;01mtorch\u001b[39;00m\n\u001b[1;32m      2\u001b[0m \u001b[38;5;28;01mimport\u001b[39;00m \u001b[38;5;21;01mtorch\u001b[39;00m\u001b[38;5;21;01m.\u001b[39;00m\u001b[38;5;21;01mnn\u001b[39;00m \u001b[38;5;28;01mas\u001b[39;00m \u001b[38;5;21;01mnn\u001b[39;00m\n\u001b[1;32m      4\u001b[0m \u001b[38;5;66;03m# Conversion en tenseurs torch\u001b[39;00m\n",
      "\u001b[0;31mModuleNotFoundError\u001b[0m: No module named 'torch'"
     ]
    }
   ],
   "source": [
    "import torch\n",
    "import torch.nn as nn\n",
    "\n",
    "# Conversion en tenseurs torch\n",
    "x_tensor = torch.from_numpy(x_raw).unsqueeze(1)  # shape (65, 1)\n",
    "y_tensor = torch.from_numpy(y_raw).unsqueeze(1)  # shape (65, 1)\n",
    "err_y_tensor = torch.from_numpy(err_y).unsqueeze(1)  # shape (65, 1)"
   ]
  },
  {
   "cell_type": "code",
   "execution_count": null,
   "id": "e4159c92",
   "metadata": {},
   "outputs": [],
   "source": [
    "\n",
    "\n",
    "class FunnyModel(nn.Module):\n",
    "    def __init__(self):\n",
    "        super().__init__()\n",
    "        # theta is a learnable parameter vector of size 3\n",
    "        self.theta = nn.Parameter(torch.randn(3))\n",
    "\n",
    "    def forward(self, x):\n",
    "        # x is expected to be a tensor of shape (batch_size, 1)\n",
    "        # Funny function: theta[0]*sin(theta[1]*x) + theta[2]*cos(x)\n",
    "        return self.theta[0] * torch.sin(self.theta[1] * x) + self.theta[2] * torch.cos(x)\n",
    "\n",
    "# Example usage:\n",
    "model = FunnyModel()\n",
    "x = torch.linspace(-5, 5, steps=100).unsqueeze(1)  # shape (100, 1)\n",
    "y = model(x)\n",
    "print(y[:5])"
   ]
  }
 ],
 "metadata": {
  "kernelspec": {
   "display_name": "Python 3",
   "language": "python",
   "name": "python3"
  },
  "language_info": {
   "codemirror_mode": {
    "name": "ipython",
    "version": 3
   },
   "file_extension": ".py",
   "mimetype": "text/x-python",
   "name": "python",
   "nbconvert_exporter": "python",
   "pygments_lexer": "ipython3",
   "version": "3.8.10"
  }
 },
 "nbformat": 4,
 "nbformat_minor": 5
}
