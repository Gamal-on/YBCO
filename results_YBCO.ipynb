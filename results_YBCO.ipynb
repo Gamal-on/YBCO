{
 "cells": [
  {
   "cell_type": "code",
   "execution_count": 1,
   "id": "0d2da28b",
   "metadata": {},
   "outputs": [],
   "source": [
    "import numpy as np\n",
    "import matplotlib.pyplot as plt\n",
    "import tools\n",
    "import schottky as sch\n",
    "import fitutils as ft"
   ]
  },
  {
   "cell_type": "code",
   "execution_count": 2,
   "id": "a9f0c744",
   "metadata": {},
   "outputs": [],
   "source": [
    "\n",
    "# Data import\n",
    "\n",
    "from data import temperature\n",
    "from data import sample_HC\n",
    "from data import err_sample_HC\n",
    "from data import err_temperature\n",
    "\n",
    "squared_temperature = temperature**2  # K**2\n",
    "C_div_T = sample_HC/temperature  # mJ/K**2.mol\n",
    "err_C_divT = err_sample_HC/temperature"
   ]
  },
  {
   "cell_type": "code",
   "execution_count": 3,
   "id": "90253d4f",
   "metadata": {},
   "outputs": [],
   "source": [
    "# Constants\n",
    "\n",
    "k = 1.380649e-23 # Boltzmann, J/K\n",
    "delta = 2.9461005*k*2.4 \n",
    "r = 8.31446261815324  # J/mol.K"
   ]
  },
  {
   "cell_type": "markdown",
   "id": "8ba69d0e",
   "metadata": {
    "vscode": {
     "languageId": "bat"
    }
   },
   "source": [
    "### I. Schottky anomaly study"
   ]
  },
  {
   "cell_type": "markdown",
   "id": "b504984b",
   "metadata": {},
   "source": [
    "### II. Linear regression "
   ]
  },
  {
   "cell_type": "markdown",
   "id": "59d64c35",
   "metadata": {},
   "source": [
    "### III. Non-linear regression"
   ]
  },
  {
   "cell_type": "markdown",
   "id": "80561728",
   "metadata": {},
   "source": []
  }
 ],
 "metadata": {
  "kernelspec": {
   "display_name": "Python 3",
   "language": "python",
   "name": "python3"
  },
  "language_info": {
   "codemirror_mode": {
    "name": "ipython",
    "version": 3
   },
   "file_extension": ".py",
   "mimetype": "text/x-python",
   "name": "python",
   "nbconvert_exporter": "python",
   "pygments_lexer": "ipython3",
   "version": "3.8.10"
  }
 },
 "nbformat": 4,
 "nbformat_minor": 5
}
