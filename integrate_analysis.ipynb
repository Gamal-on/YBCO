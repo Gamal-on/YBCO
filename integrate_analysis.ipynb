{
 "cells": [
  {
   "cell_type": "code",
   "execution_count": 3,
   "id": "4c851473",
   "metadata": {},
   "outputs": [],
   "source": [
    "from data import err_temperature\n",
    "from data import err_sample_HC\n",
    "from data import sample_HC\n",
    "from data import temperature\n",
    "import numpy as np\n",
    "import matplotlib.pyplot as plt\n",
    "import tools"
   ]
  },
  {
   "cell_type": "code",
   "execution_count": 2,
   "id": "c143264c",
   "metadata": {},
   "outputs": [],
   "source": [
    "# Constants\n",
    "\n",
    "k = 1.380649e-23\n",
    "alpha = 2.399357318878174\n",
    "\n",
    "\n",
    "squared_temperature = temperature**2  # K**2\n",
    "C_div_T = sample_HC/temperature  # mJ/K**2.mol\n",
    "err_C_divT = err_sample_HC/temperature\n"
   ]
  },
  {
   "cell_type": "code",
   "execution_count": 4,
   "id": "4113319e",
   "metadata": {},
   "outputs": [
    {
     "ename": "AttributeError",
     "evalue": "module 'tools' has no attribute 'integrate'",
     "output_type": "error",
     "traceback": [
      "\u001b[0;31m---------------------------------------------------------------------------\u001b[0m",
      "\u001b[0;31mAttributeError\u001b[0m                            Traceback (most recent call last)",
      "Cell \u001b[0;32mIn[4], line 4\u001b[0m\n\u001b[1;32m      1\u001b[0m x \u001b[38;5;241m=\u001b[39m np\u001b[38;5;241m.\u001b[39marange(\u001b[38;5;241m0\u001b[39m, \u001b[38;5;241m10\u001b[39m, \u001b[38;5;241m1\u001b[39m)\n\u001b[1;32m      2\u001b[0m y \u001b[38;5;241m=\u001b[39m x\u001b[38;5;241m*\u001b[39m\u001b[38;5;241m*\u001b[39m\u001b[38;5;241m2\u001b[39m\n\u001b[0;32m----> 4\u001b[0m y_integrated \u001b[38;5;241m=\u001b[39m \u001b[43mtools\u001b[49m\u001b[38;5;241;43m.\u001b[39;49m\u001b[43mintegrate\u001b[49m(x, y, \u001b[38;5;241m0\u001b[39m, \u001b[38;5;241m10\u001b[39m)\n\u001b[1;32m      6\u001b[0m \u001b[38;5;28mprint\u001b[39m(y_integrated)\n",
      "\u001b[0;31mAttributeError\u001b[0m: module 'tools' has no attribute 'integrate'"
     ]
    }
   ],
   "source": [
    "x = np.arange(0, 10, 1)\n",
    "y = x**2\n",
    "\n",
    "y_integrated = tools.integrate(x, y, 0, 10)\n",
    "\n",
    "print(y_integrated)"
   ]
  },
  {
   "cell_type": "code",
   "execution_count": null,
   "id": "a2d598c3",
   "metadata": {},
   "outputs": [],
   "source": []
  }
 ],
 "metadata": {
  "kernelspec": {
   "display_name": "Python 3",
   "language": "python",
   "name": "python3"
  },
  "language_info": {
   "codemirror_mode": {
    "name": "ipython",
    "version": 3
   },
   "file_extension": ".py",
   "mimetype": "text/x-python",
   "name": "python",
   "nbconvert_exporter": "python",
   "pygments_lexer": "ipython3",
   "version": "3.8.10"
  }
 },
 "nbformat": 4,
 "nbformat_minor": 5
}
