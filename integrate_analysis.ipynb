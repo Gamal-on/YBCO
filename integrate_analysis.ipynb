{
 "cells": [
  {
   "cell_type": "code",
   "execution_count": 1,
   "id": "4c851473",
   "metadata": {},
   "outputs": [],
   "source": [
    "from data import err_temperature\n",
    "from data import err_sample_HC\n",
    "from data import sample_HC\n",
    "from data import temperature\n",
    "import numpy as np\n",
    "import matplotlib.pyplot as plt\n",
    "import tools"
   ]
  },
  {
   "cell_type": "code",
   "execution_count": 2,
   "id": "f4f140ce",
   "metadata": {},
   "outputs": [
    {
     "name": "stdout",
     "output_type": "stream",
     "text": [
      "['__builtins__', '__cached__', '__doc__', '__file__', '__loader__', '__name__', '__package__', '__spec__', 'dicho_1', 'integrate', 'maximum', 'np', 'plot', 'plt', 'resol_nr', 'simpson', 'tab_interval']\n"
     ]
    }
   ],
   "source": [
    "print(dir(tools))"
   ]
  },
  {
   "cell_type": "code",
   "execution_count": 3,
   "id": "c143264c",
   "metadata": {},
   "outputs": [],
   "source": [
    "# Constants\n",
    "\n",
    "k = 1.380649e-23\n",
    "alpha = 2.399357318878174\n",
    "\n",
    "\n",
    "squared_temperature = temperature**2  # K**2\n",
    "C_div_T = sample_HC/temperature  # mJ/K**2.mol\n",
    "err_C_divT = err_sample_HC/temperature\n"
   ]
  },
  {
   "cell_type": "code",
   "execution_count": null,
   "id": "a2d598c3",
   "metadata": {},
   "outputs": [],
   "source": []
  }
 ],
 "metadata": {
  "kernelspec": {
   "display_name": "Python 3",
   "language": "python",
   "name": "python3"
  },
  "language_info": {
   "codemirror_mode": {
    "name": "ipython",
    "version": 3
   },
   "file_extension": ".py",
   "mimetype": "text/x-python",
   "name": "python",
   "nbconvert_exporter": "python",
   "pygments_lexer": "ipython3",
   "version": "3.8.10"
  }
 },
 "nbformat": 4,
 "nbformat_minor": 5
}
