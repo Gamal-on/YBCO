{
 "cells": [
  {
   "cell_type": "code",
   "execution_count": 1,
   "id": "98386292",
   "metadata": {},
   "outputs": [],
   "source": [
    "from data import err_temperature\n",
    "from data import err_sample_HC\n",
    "from data import sample_HC\n",
    "from data import temperature\n",
    "\n",
    "import numpy as np\n",
    "import matplotlib.pyplot as plt\n",
    "import fitutils as ft\n",
    "from tools import tab_interval, maximum, schottky, plot"
   ]
  },
  {
   "cell_type": "code",
   "execution_count": 2,
   "id": "3aac4b9c",
   "metadata": {},
   "outputs": [],
   "source": [
    "# Constants\n",
    "\n",
    "k = 1.380649e-23\n",
    "alpha = 2.399357318878174\n",
    "\n",
    "\n",
    "squared_temperature = temperature**2  # K**2\n",
    "C_div_T = sample_HC/temperature  # mJ/K**2.mol\n",
    "err_C_divT = err_sample_HC/temperature"
   ]
  },
  {
   "cell_type": "code",
   "execution_count": 3,
   "id": "30ca5234",
   "metadata": {},
   "outputs": [],
   "source": [
    "def max_schottky(x, y, min, max):\n",
    "    x_interval, y_interval = tab_interval(x, y, min, max)\n",
    "    maxi, i = maximum(y_interval)\n",
    "    x_maxi = x_interval[i]\n",
    "    return x_maxi, maxi\n",
    "\n",
    "\n",
    "def energie(x, y, min, max):\n",
    "    x_maxi, maxi = max_schottky(x, y, min, max)\n",
    "    return alpha*np.sqrt(x_maxi)*k"
   ]
  },
  {
   "cell_type": "code",
   "execution_count": 4,
   "id": "30603e19",
   "metadata": {},
   "outputs": [],
   "source": [
    "\n",
    "# C/T without Schottky contribution\n",
    "\n",
    "\n",
    "E = energie(squared_temperature, C_div_T, 0, 12)\n",
    "schottky_anomaly = schottky(temperature, E, n=3e24)\n",
    "schottky_CdivT = C_div_T - schottky_anomaly"
   ]
  },
  {
   "cell_type": "code",
   "execution_count": null,
   "id": "077a400a",
   "metadata": {},
   "outputs": [],
   "source": []
  }
 ],
 "metadata": {
  "kernelspec": {
   "display_name": "Python 3",
   "language": "python",
   "name": "python3"
  },
  "language_info": {
   "codemirror_mode": {
    "name": "ipython",
    "version": 3
   },
   "file_extension": ".py",
   "mimetype": "text/x-python",
   "name": "python",
   "nbconvert_exporter": "python",
   "pygments_lexer": "ipython3",
   "version": "3.8.10"
  }
 },
 "nbformat": 4,
 "nbformat_minor": 5
}
